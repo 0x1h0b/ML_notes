{
 "cells": [
  {
   "cell_type": "markdown",
   "id": "80ec08f0",
   "metadata": {},
   "source": [
    "## GAN Basics"
   ]
  },
  {
   "cell_type": "code",
   "execution_count": 14,
   "id": "348ffe22",
   "metadata": {},
   "outputs": [],
   "source": [
    "import torch\n",
    "import torch.nn as nn\n",
    "import torch.optim as optim\n",
    "import torchvision\n",
    "import torchvision.datasets as datasets\n",
    "\n",
    "from torch.utils.data import DataLoader\n",
    "from torch.utils.tensorboard import SummaryWriter"
   ]
  },
  {
   "cell_type": "code",
   "execution_count": 15,
   "id": "2d781b51",
   "metadata": {},
   "outputs": [],
   "source": [
    "\"\"\"\n",
    "simple descriminator network with 2 layer NN\n",
    "\"\"\"\n",
    "class Discriminator(nn.Module):\n",
    "    def __init__(self,input_dim):\n",
    "        super().__init__()\n",
    "        self.disc = nn.Sequential(\n",
    "            nn.Linear(input_dim,128),\n",
    "            nn.LeakyReLU(0.01),\n",
    "            nn.Linear(128,1),\n",
    "            nn.Sigmoid()\n",
    "        )\n",
    "        \n",
    "    def forward(self,x):\n",
    "        return self.disc(x)"
   ]
  },
  {
   "cell_type": "code",
   "execution_count": 16,
   "id": "5a3a088c",
   "metadata": {},
   "outputs": [],
   "source": [
    "\"\"\"\n",
    "Generator network\n",
    "use tanh to normalize inputs to [-1, 1] so make outputs [-1, 1]\n",
    "\"\"\"\n",
    "class Generator(nn.Module):\n",
    "    def __init__(self,in_dim,out_dim):\n",
    "        super().__init__()\n",
    "        self.gen = nn.Sequential(\n",
    "            nn.Linear(in_dim,256),\n",
    "            nn.LeakyReLU(0.01),\n",
    "            nn.Linear(256,out_dim),\n",
    "            nn.Tanh()\n",
    "        )\n",
    "        \n",
    "    def forward(self,x):\n",
    "        return self.gen(x)"
   ]
  },
  {
   "cell_type": "code",
   "execution_count": 18,
   "id": "eaffb3c8",
   "metadata": {},
   "outputs": [],
   "source": [
    "# hyperparameter\n",
    "device = \"cuda\" if torch.cuda.is_available() else \"cpu\"\n",
    "lr = 3e-4\n",
    "z_dim = 64\n",
    "image_dim = 28 * 28 * 1  # 784\n",
    "batch_size = 32\n",
    "num_epochs = 50\n",
    "\n",
    "disc = Discriminator(image_dim).to(device)\n",
    "gen = Generator(z_dim, image_dim).to(device)\n",
    "fixed_noise = torch.randn((batch_size, z_dim)).to(device)\n",
    "transform = torchvision.transforms.Compose([\n",
    "        torchvision.transforms.ToTensor(),\n",
    "        torchvision.transforms.Normalize((0.5,), (0.5,))\n",
    "    ])"
   ]
  },
  {
   "cell_type": "code",
   "execution_count": 19,
   "id": "44a1472e",
   "metadata": {},
   "outputs": [
    {
     "name": "stdout",
     "output_type": "stream",
     "text": [
      "Downloading http://yann.lecun.com/exdb/mnist/train-images-idx3-ubyte.gz\n",
      "Downloading http://yann.lecun.com/exdb/mnist/train-images-idx3-ubyte.gz to dataset/MNIST/raw/train-images-idx3-ubyte.gz\n"
     ]
    },
    {
     "name": "stderr",
     "output_type": "stream",
     "text": [
      "100%|████████████████████████████████████████████████| 9912422/9912422 [00:01<00:00, 8603270.96it/s]\n"
     ]
    },
    {
     "name": "stdout",
     "output_type": "stream",
     "text": [
      "Extracting dataset/MNIST/raw/train-images-idx3-ubyte.gz to dataset/MNIST/raw\n",
      "\n",
      "Downloading http://yann.lecun.com/exdb/mnist/train-labels-idx1-ubyte.gz\n",
      "Downloading http://yann.lecun.com/exdb/mnist/train-labels-idx1-ubyte.gz to dataset/MNIST/raw/train-labels-idx1-ubyte.gz\n"
     ]
    },
    {
     "name": "stderr",
     "output_type": "stream",
     "text": [
      "100%|████████████████████████████████████████████████████| 28881/28881 [00:00<00:00, 4224288.39it/s]\n"
     ]
    },
    {
     "name": "stdout",
     "output_type": "stream",
     "text": [
      "Extracting dataset/MNIST/raw/train-labels-idx1-ubyte.gz to dataset/MNIST/raw\n",
      "\n",
      "Downloading http://yann.lecun.com/exdb/mnist/t10k-images-idx3-ubyte.gz\n",
      "Downloading http://yann.lecun.com/exdb/mnist/t10k-images-idx3-ubyte.gz to dataset/MNIST/raw/t10k-images-idx3-ubyte.gz\n"
     ]
    },
    {
     "name": "stderr",
     "output_type": "stream",
     "text": [
      "100%|████████████████████████████████████████████████| 1648877/1648877 [00:01<00:00, 1431766.71it/s]\n"
     ]
    },
    {
     "name": "stdout",
     "output_type": "stream",
     "text": [
      "Extracting dataset/MNIST/raw/t10k-images-idx3-ubyte.gz to dataset/MNIST/raw\n",
      "\n",
      "Downloading http://yann.lecun.com/exdb/mnist/t10k-labels-idx1-ubyte.gz\n",
      "Downloading http://yann.lecun.com/exdb/mnist/t10k-labels-idx1-ubyte.gz to dataset/MNIST/raw/t10k-labels-idx1-ubyte.gz\n"
     ]
    },
    {
     "name": "stderr",
     "output_type": "stream",
     "text": [
      "100%|██████████████████████████████████████████████████████| 4542/4542 [00:00<00:00, 3339268.85it/s]"
     ]
    },
    {
     "name": "stdout",
     "output_type": "stream",
     "text": [
      "Extracting dataset/MNIST/raw/t10k-labels-idx1-ubyte.gz to dataset/MNIST/raw\n",
      "\n"
     ]
    },
    {
     "name": "stderr",
     "output_type": "stream",
     "text": [
      "\n"
     ]
    }
   ],
   "source": [
    "dataset = datasets.MNIST(root=\"dataset/\", transform=transforms, download=True)\n",
    "loader = DataLoader(dataset, batch_size=batch_size, shuffle=True)\n",
    "opt_disc = optim.Adam(disc.parameters(), lr=lr)\n",
    "opt_gen = optim.Adam(gen.parameters(), lr=lr)\n",
    "criterion = nn.BCELoss()\n",
    "writer_fake = SummaryWriter(f\"logs/fake\")\n",
    "writer_real = SummaryWriter(f\"logs/real\")\n",
    "step = 0"
   ]
  },
  {
   "cell_type": "code",
   "execution_count": 20,
   "id": "a9334614",
   "metadata": {},
   "outputs": [
    {
     "name": "stdout",
     "output_type": "stream",
     "text": [
      "Epoch [0/50] Batch 0/1875                       Loss D: 0.7007, loss G: 0.7174\n",
      "Epoch [1/50] Batch 0/1875                       Loss D: 0.6941, loss G: 0.7301\n",
      "Epoch [2/50] Batch 0/1875                       Loss D: 0.7744, loss G: 0.7698\n",
      "Epoch [3/50] Batch 0/1875                       Loss D: 0.5293, loss G: 1.3792\n",
      "Epoch [4/50] Batch 0/1875                       Loss D: 0.8909, loss G: 0.7155\n",
      "Epoch [5/50] Batch 0/1875                       Loss D: 0.6103, loss G: 1.4277\n",
      "Epoch [6/50] Batch 0/1875                       Loss D: 0.4111, loss G: 1.3907\n",
      "Epoch [7/50] Batch 0/1875                       Loss D: 0.6781, loss G: 0.7968\n",
      "Epoch [8/50] Batch 0/1875                       Loss D: 0.3731, loss G: 1.6038\n",
      "Epoch [9/50] Batch 0/1875                       Loss D: 0.7416, loss G: 0.9327\n",
      "Epoch [10/50] Batch 0/1875                       Loss D: 0.4722, loss G: 1.8581\n",
      "Epoch [11/50] Batch 0/1875                       Loss D: 0.5634, loss G: 1.3538\n",
      "Epoch [12/50] Batch 0/1875                       Loss D: 0.4783, loss G: 1.6632\n",
      "Epoch [13/50] Batch 0/1875                       Loss D: 0.4272, loss G: 1.4049\n",
      "Epoch [14/50] Batch 0/1875                       Loss D: 0.6391, loss G: 1.1041\n",
      "Epoch [15/50] Batch 0/1875                       Loss D: 0.5678, loss G: 1.0815\n",
      "Epoch [16/50] Batch 0/1875                       Loss D: 0.6947, loss G: 0.8990\n",
      "Epoch [17/50] Batch 0/1875                       Loss D: 0.6004, loss G: 1.6778\n",
      "Epoch [18/50] Batch 0/1875                       Loss D: 0.3560, loss G: 2.0336\n",
      "Epoch [19/50] Batch 0/1875                       Loss D: 0.4002, loss G: 1.6138\n",
      "Epoch [20/50] Batch 0/1875                       Loss D: 0.6477, loss G: 1.1764\n",
      "Epoch [21/50] Batch 0/1875                       Loss D: 0.6732, loss G: 1.2293\n",
      "Epoch [22/50] Batch 0/1875                       Loss D: 0.5549, loss G: 1.2945\n",
      "Epoch [23/50] Batch 0/1875                       Loss D: 0.4703, loss G: 1.4801\n",
      "Epoch [24/50] Batch 0/1875                       Loss D: 0.4701, loss G: 1.5697\n",
      "Epoch [25/50] Batch 0/1875                       Loss D: 0.5532, loss G: 1.5982\n",
      "Epoch [26/50] Batch 0/1875                       Loss D: 0.5018, loss G: 1.3616\n",
      "Epoch [27/50] Batch 0/1875                       Loss D: 0.6491, loss G: 1.0653\n",
      "Epoch [28/50] Batch 0/1875                       Loss D: 0.7168, loss G: 1.3523\n",
      "Epoch [29/50] Batch 0/1875                       Loss D: 0.4801, loss G: 1.6543\n",
      "Epoch [30/50] Batch 0/1875                       Loss D: 0.4794, loss G: 1.6531\n",
      "Epoch [31/50] Batch 0/1875                       Loss D: 0.6934, loss G: 1.3866\n",
      "Epoch [32/50] Batch 0/1875                       Loss D: 0.4229, loss G: 1.4603\n",
      "Epoch [33/50] Batch 0/1875                       Loss D: 0.4159, loss G: 1.5141\n",
      "Epoch [34/50] Batch 0/1875                       Loss D: 0.5565, loss G: 1.5027\n",
      "Epoch [35/50] Batch 0/1875                       Loss D: 0.6783, loss G: 1.2370\n",
      "Epoch [36/50] Batch 0/1875                       Loss D: 0.6757, loss G: 1.5842\n",
      "Epoch [37/50] Batch 0/1875                       Loss D: 0.4883, loss G: 1.6320\n",
      "Epoch [38/50] Batch 0/1875                       Loss D: 0.7859, loss G: 0.7623\n",
      "Epoch [39/50] Batch 0/1875                       Loss D: 0.5228, loss G: 1.6183\n",
      "Epoch [40/50] Batch 0/1875                       Loss D: 0.5517, loss G: 1.2911\n",
      "Epoch [41/50] Batch 0/1875                       Loss D: 0.4449, loss G: 1.4694\n",
      "Epoch [42/50] Batch 0/1875                       Loss D: 0.6629, loss G: 1.1508\n",
      "Epoch [43/50] Batch 0/1875                       Loss D: 0.4834, loss G: 1.7843\n",
      "Epoch [44/50] Batch 0/1875                       Loss D: 0.8431, loss G: 1.0685\n",
      "Epoch [45/50] Batch 0/1875                       Loss D: 0.6067, loss G: 1.0810\n",
      "Epoch [46/50] Batch 0/1875                       Loss D: 0.3941, loss G: 1.5243\n",
      "Epoch [47/50] Batch 0/1875                       Loss D: 0.5869, loss G: 1.2703\n",
      "Epoch [48/50] Batch 0/1875                       Loss D: 0.5280, loss G: 1.0990\n",
      "Epoch [49/50] Batch 0/1875                       Loss D: 0.5860, loss G: 0.9230\n"
     ]
    }
   ],
   "source": [
    "for epoch in range(num_epochs):\n",
    "    for batch_idx, (real, _) in enumerate(loader):\n",
    "        real = real.view(-1, 784).to(device)\n",
    "        batch_size = real.shape[0]\n",
    "\n",
    "        ### Train Discriminator: max log(D(x)) + log(1 - D(G(z)))\n",
    "        noise = torch.randn(batch_size, z_dim).to(device)\n",
    "        fake = gen(noise)\n",
    "        disc_real = disc(real).view(-1)\n",
    "        lossD_real = criterion(disc_real, torch.ones_like(disc_real))\n",
    "        disc_fake = disc(fake).view(-1)\n",
    "        lossD_fake = criterion(disc_fake, torch.zeros_like(disc_fake))\n",
    "        lossD = (lossD_real + lossD_fake) / 2\n",
    "        disc.zero_grad()\n",
    "        lossD.backward(retain_graph=True)\n",
    "        opt_disc.step()\n",
    "\n",
    "        ### Train Generator: min log(1 - D(G(z))) <-> max log(D(G(z))\n",
    "        # where the second option of maximizing doesn't suffer from\n",
    "        # saturating gradients\n",
    "        output = disc(fake).view(-1)\n",
    "        lossG = criterion(output, torch.ones_like(output))\n",
    "        gen.zero_grad()\n",
    "        lossG.backward()\n",
    "        opt_gen.step()\n",
    "\n",
    "        if batch_idx == 0:\n",
    "            print(\n",
    "                f\"Epoch [{epoch}/{num_epochs}] Batch {batch_idx}/{len(loader)} \\\n",
    "                      Loss D: {lossD:.4f}, loss G: {lossG:.4f}\"\n",
    "            )\n",
    "\n",
    "            with torch.no_grad():\n",
    "                fake = gen(fixed_noise).reshape(-1, 1, 28, 28)\n",
    "                data = real.reshape(-1, 1, 28, 28)\n",
    "                img_grid_fake = torchvision.utils.make_grid(fake, normalize=True)\n",
    "                img_grid_real = torchvision.utils.make_grid(data, normalize=True)\n",
    "\n",
    "                writer_fake.add_image(\n",
    "                    \"Mnist Fake Images\", img_grid_fake, global_step=step\n",
    "                )\n",
    "                writer_real.add_image(\n",
    "                    \"Mnist Real Images\", img_grid_real, global_step=step\n",
    "                )\n",
    "                step += 1"
   ]
  },
  {
   "cell_type": "code",
   "execution_count": null,
   "id": "eba1e000",
   "metadata": {},
   "outputs": [],
   "source": []
  }
 ],
 "metadata": {
  "kernelspec": {
   "display_name": "Python 3 (ipykernel)",
   "language": "python",
   "name": "python3"
  },
  "language_info": {
   "codemirror_mode": {
    "name": "ipython",
    "version": 3
   },
   "file_extension": ".py",
   "mimetype": "text/x-python",
   "name": "python",
   "nbconvert_exporter": "python",
   "pygments_lexer": "ipython3",
   "version": "3.9.13"
  }
 },
 "nbformat": 4,
 "nbformat_minor": 5
}
