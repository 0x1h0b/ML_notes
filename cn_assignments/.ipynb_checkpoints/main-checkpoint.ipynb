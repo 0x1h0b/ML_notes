{
 "cells": [
  {
   "cell_type": "code",
   "execution_count": 27,
   "id": "be992bbb",
   "metadata": {},
   "outputs": [],
   "source": [
    "import pandas as pd\n",
    "import matplotlib.pyplot as plt\n",
    "%matplotlib inline"
   ]
  },
  {
   "cell_type": "code",
   "execution_count": 2,
   "id": "61ebfe89",
   "metadata": {},
   "outputs": [],
   "source": [
    "df = pd.read_csv('train.csv')"
   ]
  },
  {
   "cell_type": "code",
   "execution_count": 3,
   "id": "d9fb6349",
   "metadata": {},
   "outputs": [
    {
     "data": {
      "text/html": [
       "<div>\n",
       "<style scoped>\n",
       "    .dataframe tbody tr th:only-of-type {\n",
       "        vertical-align: middle;\n",
       "    }\n",
       "\n",
       "    .dataframe tbody tr th {\n",
       "        vertical-align: top;\n",
       "    }\n",
       "\n",
       "    .dataframe thead th {\n",
       "        text-align: right;\n",
       "    }\n",
       "</style>\n",
       "<table border=\"1\" class=\"dataframe\">\n",
       "  <thead>\n",
       "    <tr style=\"text-align: right;\">\n",
       "      <th></th>\n",
       "      <th># age</th>\n",
       "      <th>sex</th>\n",
       "      <th>bmi</th>\n",
       "      <th>bp</th>\n",
       "      <th>s1</th>\n",
       "      <th>s2</th>\n",
       "      <th>s3</th>\n",
       "      <th>s4</th>\n",
       "      <th>s5</th>\n",
       "      <th>s6</th>\n",
       "      <th>Y</th>\n",
       "    </tr>\n",
       "  </thead>\n",
       "  <tbody>\n",
       "    <tr>\n",
       "      <th>0</th>\n",
       "      <td>-0.049105</td>\n",
       "      <td>-0.044642</td>\n",
       "      <td>0.160855</td>\n",
       "      <td>-0.046985</td>\n",
       "      <td>-0.029088</td>\n",
       "      <td>-0.019790</td>\n",
       "      <td>-0.047082</td>\n",
       "      <td>0.034309</td>\n",
       "      <td>0.028017</td>\n",
       "      <td>0.011349</td>\n",
       "      <td>346.0</td>\n",
       "    </tr>\n",
       "    <tr>\n",
       "      <th>1</th>\n",
       "      <td>-0.070900</td>\n",
       "      <td>0.050680</td>\n",
       "      <td>-0.089197</td>\n",
       "      <td>-0.074528</td>\n",
       "      <td>-0.042848</td>\n",
       "      <td>-0.025739</td>\n",
       "      <td>-0.032356</td>\n",
       "      <td>-0.002592</td>\n",
       "      <td>-0.012908</td>\n",
       "      <td>-0.054925</td>\n",
       "      <td>104.0</td>\n",
       "    </tr>\n",
       "    <tr>\n",
       "      <th>2</th>\n",
       "      <td>0.001751</td>\n",
       "      <td>-0.044642</td>\n",
       "      <td>-0.070875</td>\n",
       "      <td>-0.022885</td>\n",
       "      <td>-0.001569</td>\n",
       "      <td>-0.001001</td>\n",
       "      <td>0.026550</td>\n",
       "      <td>-0.039493</td>\n",
       "      <td>-0.022512</td>\n",
       "      <td>0.007207</td>\n",
       "      <td>49.0</td>\n",
       "    </tr>\n",
       "    <tr>\n",
       "      <th>3</th>\n",
       "      <td>0.048974</td>\n",
       "      <td>0.050680</td>\n",
       "      <td>0.081097</td>\n",
       "      <td>0.021872</td>\n",
       "      <td>0.043837</td>\n",
       "      <td>0.064134</td>\n",
       "      <td>-0.054446</td>\n",
       "      <td>0.071210</td>\n",
       "      <td>0.032433</td>\n",
       "      <td>0.048628</td>\n",
       "      <td>180.0</td>\n",
       "    </tr>\n",
       "    <tr>\n",
       "      <th>4</th>\n",
       "      <td>0.041708</td>\n",
       "      <td>0.050680</td>\n",
       "      <td>0.061696</td>\n",
       "      <td>-0.040099</td>\n",
       "      <td>-0.013953</td>\n",
       "      <td>0.006202</td>\n",
       "      <td>-0.028674</td>\n",
       "      <td>-0.002592</td>\n",
       "      <td>-0.014956</td>\n",
       "      <td>0.011349</td>\n",
       "      <td>110.0</td>\n",
       "    </tr>\n",
       "  </tbody>\n",
       "</table>\n",
       "</div>"
      ],
      "text/plain": [
       "      # age       sex       bmi        bp        s1        s2        s3  \\\n",
       "0 -0.049105 -0.044642  0.160855 -0.046985 -0.029088 -0.019790 -0.047082   \n",
       "1 -0.070900  0.050680 -0.089197 -0.074528 -0.042848 -0.025739 -0.032356   \n",
       "2  0.001751 -0.044642 -0.070875 -0.022885 -0.001569 -0.001001  0.026550   \n",
       "3  0.048974  0.050680  0.081097  0.021872  0.043837  0.064134 -0.054446   \n",
       "4  0.041708  0.050680  0.061696 -0.040099 -0.013953  0.006202 -0.028674   \n",
       "\n",
       "         s4        s5        s6      Y  \n",
       "0  0.034309  0.028017  0.011349  346.0  \n",
       "1 -0.002592 -0.012908 -0.054925  104.0  \n",
       "2 -0.039493 -0.022512  0.007207   49.0  \n",
       "3  0.071210  0.032433  0.048628  180.0  \n",
       "4 -0.002592 -0.014956  0.011349  110.0  "
      ]
     },
     "execution_count": 3,
     "metadata": {},
     "output_type": "execute_result"
    }
   ],
   "source": [
    "df.head()"
   ]
  },
  {
   "cell_type": "code",
   "execution_count": 4,
   "id": "e9b243c1",
   "metadata": {},
   "outputs": [
    {
     "data": {
      "text/plain": [
       "(331, 11)"
      ]
     },
     "execution_count": 4,
     "metadata": {},
     "output_type": "execute_result"
    }
   ],
   "source": [
    "df.shape"
   ]
  },
  {
   "cell_type": "code",
   "execution_count": 6,
   "id": "ffe84047",
   "metadata": {},
   "outputs": [
    {
     "name": "stdout",
     "output_type": "stream",
     "text": [
      "<class 'pandas.core.frame.DataFrame'>\n",
      "RangeIndex: 331 entries, 0 to 330\n",
      "Data columns (total 11 columns):\n",
      " #   Column  Non-Null Count  Dtype  \n",
      "---  ------  --------------  -----  \n",
      " 0   # age   331 non-null    float64\n",
      " 1   sex     331 non-null    float64\n",
      " 2   bmi     331 non-null    float64\n",
      " 3   bp      331 non-null    float64\n",
      " 4   s1      331 non-null    float64\n",
      " 5   s2      331 non-null    float64\n",
      " 6   s3      331 non-null    float64\n",
      " 7   s4      331 non-null    float64\n",
      " 8   s5      331 non-null    float64\n",
      " 9   s6      331 non-null    float64\n",
      " 10  Y       331 non-null    float64\n",
      "dtypes: float64(11)\n",
      "memory usage: 28.6 KB\n"
     ]
    }
   ],
   "source": [
    "df.info()"
   ]
  },
  {
   "cell_type": "code",
   "execution_count": 32,
   "id": "6e0c9c73",
   "metadata": {},
   "outputs": [
    {
     "data": {
      "image/png": "[encoded data removed]",
      "text/plain": [
       "<Figure size 432x288 with 1 Axes>"
      ]
     },
     "metadata": {
      "needs_background": "light"
     },
     "output_type": "display_data"
    },
    {
     "data": {
      "image/png": "[encoded data removed]",
      "text/plain": [
       "<Figure size 432x288 with 1 Axes>"
      ]
     },
     "metadata": {
      "needs_background": "light"
     },
     "output_type": "display_data"
    },
    {
     "data": {
      "image/png": "[encoded data removed]",
      "text/plain": [
       "<Figure size 432x288 with 1 Axes>"
      ]
     },
     "metadata": {
      "needs_background": "light"
     },
     "output_type": "display_data"
    },
    {
     "data": {
      "image/png": "[encoded data removed]",
      "text/plain": [
       "<Figure size 432x288 with 1 Axes>"
      ]
     },
     "metadata": {
      "needs_background": "light"
     },
     "output_type": "display_data"
    },
    {
     "data": {
      "image/png": "[encoded data removed]",
      "text/plain": [
       "<Figure size 432x288 with 1 Axes>"
      ]
     },
     "metadata": {
      "needs_background": "light"
     },
     "output_type": "display_data"
    },
    {
     "data": {
      "image/png": "[encoded data removed]",
      "text/plain": [
       "<Figure size 432x288 with 1 Axes>"
      ]
     },
     "metadata": {
      "needs_background": "light"
     },
     "output_type": "display_data"
    },
    {
     "data": {
      "image/png": "[encoded data removed]",
      "text/plain": [
       "<Figure size 432x288 with 1 Axes>"
      ]
     },
     "metadata": {
      "needs_background": "light"
     },
     "output_type": "display_data"
    },
    {
     "data": {
      "image/png": "[encoded data removed]",
      "text/plain": [
       "<Figure size 432x288 with 1 Axes>"
      ]
     },
     "metadata": {
      "needs_background": "light"
     },
     "output_type": "display_data"
    },
    {
     "data": {
      "image/png": "[encoded data removed]",
      "text/plain": [
       "<Figure size 432x288 with 1 Axes>"
      ]
     },
     "metadata": {
      "needs_background": "light"
     },
     "output_type": "display_data"
    },
    {
     "data": {
      "image/png": "[encoded data removed]",
      "text/plain": [
       "<Figure size 432x288 with 1 Axes>"
      ]
     },
     "metadata": {
      "needs_background": "light"
     },
     "output_type": "display_data"
    },
    {
     "data": {
      "image/png": "[encoded data removed]",
      "text/plain": [
       "<Figure size 432x288 with 1 Axes>"
      ]
     },
     "metadata": {
      "needs_background": "light"
     },
     "output_type": "display_data"
    }
   ],
   "source": [
    "cols = list(df.columns)\n",
    "idx=1\n",
    "for i in cols:\n",
    "    df[i].hist()\n",
    "    plt.title(i)\n",
    "    plt.show()"
   ]
  },
  {
   "cell_type": "code",
   "execution_count": 33,
   "id": "2156f3b2",
   "metadata": {},
   "outputs": [
    {
     "data": {
      "text/html": [
       "<div>\n",
       "<style scoped>\n",
       "    .dataframe tbody tr th:only-of-type {\n",
       "        vertical-align: middle;\n",
       "    }\n",
       "\n",
       "    .dataframe tbody tr th {\n",
       "        vertical-align: top;\n",
       "    }\n",
       "\n",
       "    .dataframe thead th {\n",
       "        text-align: right;\n",
       "    }\n",
       "</style>\n",
       "<table border=\"1\" class=\"dataframe\">\n",
       "  <thead>\n",
       "    <tr style=\"text-align: right;\">\n",
       "      <th></th>\n",
       "      <th># age</th>\n",
       "      <th>sex</th>\n",
       "      <th>bmi</th>\n",
       "      <th>bp</th>\n",
       "      <th>s1</th>\n",
       "      <th>s2</th>\n",
       "      <th>s3</th>\n",
       "      <th>s4</th>\n",
       "      <th>s5</th>\n",
       "      <th>s6</th>\n",
       "      <th>Y</th>\n",
       "    </tr>\n",
       "  </thead>\n",
       "  <tbody>\n",
       "    <tr>\n",
       "      <th># age</th>\n",
       "      <td>1.000000</td>\n",
       "      <td>0.221386</td>\n",
       "      <td>0.117506</td>\n",
       "      <td>0.336639</td>\n",
       "      <td>0.217182</td>\n",
       "      <td>0.177462</td>\n",
       "      <td>-0.041324</td>\n",
       "      <td>0.169678</td>\n",
       "      <td>0.224208</td>\n",
       "      <td>0.284031</td>\n",
       "      <td>0.152354</td>\n",
       "    </tr>\n",
       "    <tr>\n",
       "      <th>sex</th>\n",
       "      <td>0.221386</td>\n",
       "      <td>1.000000</td>\n",
       "      <td>0.113450</td>\n",
       "      <td>0.265966</td>\n",
       "      <td>0.031137</td>\n",
       "      <td>0.141194</td>\n",
       "      <td>-0.376199</td>\n",
       "      <td>0.322233</td>\n",
       "      <td>0.144762</td>\n",
       "      <td>0.188869</td>\n",
       "      <td>0.032686</td>\n",
       "    </tr>\n",
       "    <tr>\n",
       "      <th>bmi</th>\n",
       "      <td>0.117506</td>\n",
       "      <td>0.113450</td>\n",
       "      <td>1.000000</td>\n",
       "      <td>0.349507</td>\n",
       "      <td>0.243845</td>\n",
       "      <td>0.272199</td>\n",
       "      <td>-0.385794</td>\n",
       "      <td>0.430612</td>\n",
       "      <td>0.437829</td>\n",
       "      <td>0.411544</td>\n",
       "      <td>0.590649</td>\n",
       "    </tr>\n",
       "    <tr>\n",
       "      <th>bp</th>\n",
       "      <td>0.336639</td>\n",
       "      <td>0.265966</td>\n",
       "      <td>0.349507</td>\n",
       "      <td>1.000000</td>\n",
       "      <td>0.232169</td>\n",
       "      <td>0.176436</td>\n",
       "      <td>-0.129540</td>\n",
       "      <td>0.197824</td>\n",
       "      <td>0.354651</td>\n",
       "      <td>0.400326</td>\n",
       "      <td>0.395510</td>\n",
       "    </tr>\n",
       "    <tr>\n",
       "      <th>s1</th>\n",
       "      <td>0.217182</td>\n",
       "      <td>0.031137</td>\n",
       "      <td>0.243845</td>\n",
       "      <td>0.232169</td>\n",
       "      <td>1.000000</td>\n",
       "      <td>0.895141</td>\n",
       "      <td>0.074307</td>\n",
       "      <td>0.533061</td>\n",
       "      <td>0.514609</td>\n",
       "      <td>0.324239</td>\n",
       "      <td>0.201468</td>\n",
       "    </tr>\n",
       "    <tr>\n",
       "      <th>s2</th>\n",
       "      <td>0.177462</td>\n",
       "      <td>0.141194</td>\n",
       "      <td>0.272199</td>\n",
       "      <td>0.176436</td>\n",
       "      <td>0.895141</td>\n",
       "      <td>1.000000</td>\n",
       "      <td>-0.181585</td>\n",
       "      <td>0.654187</td>\n",
       "      <td>0.314050</td>\n",
       "      <td>0.267004</td>\n",
       "      <td>0.165906</td>\n",
       "    </tr>\n",
       "    <tr>\n",
       "      <th>s3</th>\n",
       "      <td>-0.041324</td>\n",
       "      <td>-0.376199</td>\n",
       "      <td>-0.385794</td>\n",
       "      <td>-0.129540</td>\n",
       "      <td>0.074307</td>\n",
       "      <td>-0.181585</td>\n",
       "      <td>1.000000</td>\n",
       "      <td>-0.729004</td>\n",
       "      <td>-0.372797</td>\n",
       "      <td>-0.243291</td>\n",
       "      <td>-0.357976</td>\n",
       "    </tr>\n",
       "    <tr>\n",
       "      <th>s4</th>\n",
       "      <td>0.169678</td>\n",
       "      <td>0.322233</td>\n",
       "      <td>0.430612</td>\n",
       "      <td>0.197824</td>\n",
       "      <td>0.533061</td>\n",
       "      <td>0.654187</td>\n",
       "      <td>-0.729004</td>\n",
       "      <td>1.000000</td>\n",
       "      <td>0.604636</td>\n",
       "      <td>0.387984</td>\n",
       "      <td>0.393844</td>\n",
       "    </tr>\n",
       "    <tr>\n",
       "      <th>s5</th>\n",
       "      <td>0.224208</td>\n",
       "      <td>0.144762</td>\n",
       "      <td>0.437829</td>\n",
       "      <td>0.354651</td>\n",
       "      <td>0.514609</td>\n",
       "      <td>0.314050</td>\n",
       "      <td>-0.372797</td>\n",
       "      <td>0.604636</td>\n",
       "      <td>1.000000</td>\n",
       "      <td>0.488148</td>\n",
       "      <td>0.535563</td>\n",
       "    </tr>\n",
       "    <tr>\n",
       "      <th>s6</th>\n",
       "      <td>0.284031</td>\n",
       "      <td>0.188869</td>\n",
       "      <td>0.411544</td>\n",
       "      <td>0.400326</td>\n",
       "      <td>0.324239</td>\n",
       "      <td>0.267004</td>\n",
       "      <td>-0.243291</td>\n",
       "      <td>0.387984</td>\n",
       "      <td>0.488148</td>\n",
       "      <td>1.000000</td>\n",
       "      <td>0.385875</td>\n",
       "    </tr>\n",
       "    <tr>\n",
       "      <th>Y</th>\n",
       "      <td>0.152354</td>\n",
       "      <td>0.032686</td>\n",
       "      <td>0.590649</td>\n",
       "      <td>0.395510</td>\n",
       "      <td>0.201468</td>\n",
       "      <td>0.165906</td>\n",
       "      <td>-0.357976</td>\n",
       "      <td>0.393844</td>\n",
       "      <td>0.535563</td>\n",
       "      <td>0.385875</td>\n",
       "      <td>1.000000</td>\n",
       "    </tr>\n",
       "  </tbody>\n",
       "</table>\n",
       "</div>"
      ],
      "text/plain": [
       "          # age       sex       bmi        bp        s1        s2        s3  \\\n",
       "# age  1.000000  0.221386  0.117506  0.336639  0.217182  0.177462 -0.041324   \n",
       "sex    0.221386  1.000000  0.113450  0.265966  0.031137  0.141194 -0.376199   \n",
       "bmi    0.117506  0.113450  1.000000  0.349507  0.243845  0.272199 -0.385794   \n",
       "bp     0.336639  0.265966  0.349507  1.000000  0.232169  0.176436 -0.129540   \n",
       "s1     0.217182  0.031137  0.243845  0.232169  1.000000  0.895141  0.074307   \n",
       "s2     0.177462  0.141194  0.272199  0.176436  0.895141  1.000000 -0.181585   \n",
       "s3    -0.041324 -0.376199 -0.385794 -0.129540  0.074307 -0.181585  1.000000   \n",
       "s4     0.169678  0.322233  0.430612  0.197824  0.533061  0.654187 -0.729004   \n",
       "s5     0.224208  0.144762  0.437829  0.354651  0.514609  0.314050 -0.372797   \n",
       "s6     0.284031  0.188869  0.411544  0.400326  0.324239  0.267004 -0.243291   \n",
       "Y      0.152354  0.032686  0.590649  0.395510  0.201468  0.165906 -0.357976   \n",
       "\n",
       "             s4        s5        s6         Y  \n",
       "# age  0.169678  0.224208  0.284031  0.152354  \n",
       "sex    0.322233  0.144762  0.188869  0.032686  \n",
       "bmi    0.430612  0.437829  0.411544  0.590649  \n",
       "bp     0.197824  0.354651  0.400326  0.395510  \n",
       "s1     0.533061  0.514609  0.324239  0.201468  \n",
       "s2     0.654187  0.314050  0.267004  0.165906  \n",
       "s3    -0.729004 -0.372797 -0.243291 -0.357976  \n",
       "s4     1.000000  0.604636  0.387984  0.393844  \n",
       "s5     0.604636  1.000000  0.488148  0.535563  \n",
       "s6     0.387984  0.488148  1.000000  0.385875  \n",
       "Y      0.393844  0.535563  0.385875  1.000000  "
      ]
     },
     "execution_count": 33,
     "metadata": {},
     "output_type": "execute_result"
    }
   ],
   "source": [
    "df.corr()"
   ]
  },
  {
   "cell_type": "code",
   "execution_count": null,
   "id": "2f61bd30",
   "metadata": {},
   "outputs": [],
   "source": []
  },
  {
   "cell_type": "code",
   "execution_count": null,
   "id": "445618b3",
   "metadata": {},
   "outputs": [],
   "source": []
  },
  {
   "cell_type": "code",
   "execution_count": 75,
   "id": "b98f8c1e",
   "metadata": {},
   "outputs": [
    {
     "name": "stdout",
     "output_type": "stream",
     "text": [
      "(331, 9)\n",
      "(331,)\n"
     ]
    }
   ],
   "source": [
    "X = df.drop(['sex','Y'],axis=1)\n",
    "print(X.shape)\n",
    "Y = df['Y']\n",
    "print(Y.shape)"
   ]
  },
  {
   "cell_type": "code",
   "execution_count": 76,
   "id": "8e8391a4",
   "metadata": {},
   "outputs": [],
   "source": [
    "from sklearn.model_selection import train_test_split\n",
    "\n",
    "x_train,x_test,y_train,y_test = train_test_split(X,Y,random_state=10)"
   ]
  },
  {
   "cell_type": "code",
   "execution_count": 77,
   "id": "ecebcff8",
   "metadata": {},
   "outputs": [
    {
     "name": "stdout",
     "output_type": "stream",
     "text": [
      "0.3385906112524899\n"
     ]
    }
   ],
   "source": [
    "from sklearn.linear_model import LinearRegression \n",
    "from sklearn.metrics import r2_score\n",
    "\n",
    "clf = LinearRegression()\n",
    "clf.fit(x_train,y_train)\n",
    "y_pred = clf.predict(x_test)\n",
    "print(r2_score(y_test,y_pred))"
   ]
  },
  {
   "cell_type": "code",
   "execution_count": 78,
   "id": "9868d3c1",
   "metadata": {},
   "outputs": [
    {
     "name": "stdout",
     "output_type": "stream",
     "text": [
      "(111, 10)\n",
      "Int64Index([0, 1, 2, 3, 4, 5, 6, 7, 8, 9], dtype='int64')\n"
     ]
    },
    {
     "data": {
      "text/html": [
       "<div>\n",
       "<style scoped>\n",
       "    .dataframe tbody tr th:only-of-type {\n",
       "        vertical-align: middle;\n",
       "    }\n",
       "\n",
       "    .dataframe tbody tr th {\n",
       "        vertical-align: top;\n",
       "    }\n",
       "\n",
       "    .dataframe thead th {\n",
       "        text-align: right;\n",
       "    }\n",
       "</style>\n",
       "<table border=\"1\" class=\"dataframe\">\n",
       "  <thead>\n",
       "    <tr style=\"text-align: right;\">\n",
       "      <th></th>\n",
       "      <th>0</th>\n",
       "      <th>1</th>\n",
       "      <th>2</th>\n",
       "      <th>3</th>\n",
       "      <th>4</th>\n",
       "      <th>5</th>\n",
       "      <th>6</th>\n",
       "      <th>7</th>\n",
       "      <th>8</th>\n",
       "      <th>9</th>\n",
       "    </tr>\n",
       "  </thead>\n",
       "  <tbody>\n",
       "    <tr>\n",
       "      <th>0</th>\n",
       "      <td>0.023546</td>\n",
       "      <td>0.050680</td>\n",
       "      <td>-0.037463</td>\n",
       "      <td>-0.046985</td>\n",
       "      <td>-0.091006</td>\n",
       "      <td>-0.075530</td>\n",
       "      <td>-0.032356</td>\n",
       "      <td>-0.039493</td>\n",
       "      <td>-0.030751</td>\n",
       "      <td>-0.013504</td>\n",
       "    </tr>\n",
       "    <tr>\n",
       "      <th>1</th>\n",
       "      <td>-0.078165</td>\n",
       "      <td>-0.044642</td>\n",
       "      <td>-0.073030</td>\n",
       "      <td>-0.057314</td>\n",
       "      <td>-0.084126</td>\n",
       "      <td>-0.074277</td>\n",
       "      <td>-0.024993</td>\n",
       "      <td>-0.039493</td>\n",
       "      <td>-0.018118</td>\n",
       "      <td>-0.083920</td>\n",
       "    </tr>\n",
       "    <tr>\n",
       "      <th>2</th>\n",
       "      <td>-0.030942</td>\n",
       "      <td>0.050680</td>\n",
       "      <td>0.001339</td>\n",
       "      <td>-0.005671</td>\n",
       "      <td>0.064477</td>\n",
       "      <td>0.049416</td>\n",
       "      <td>-0.047082</td>\n",
       "      <td>0.108111</td>\n",
       "      <td>0.083797</td>\n",
       "      <td>0.003064</td>\n",
       "    </tr>\n",
       "    <tr>\n",
       "      <th>3</th>\n",
       "      <td>-0.005515</td>\n",
       "      <td>0.050680</td>\n",
       "      <td>0.001339</td>\n",
       "      <td>-0.084857</td>\n",
       "      <td>-0.011201</td>\n",
       "      <td>-0.016658</td>\n",
       "      <td>0.048640</td>\n",
       "      <td>-0.039493</td>\n",
       "      <td>-0.041180</td>\n",
       "      <td>-0.088062</td>\n",
       "    </tr>\n",
       "    <tr>\n",
       "      <th>4</th>\n",
       "      <td>-0.020045</td>\n",
       "      <td>-0.044642</td>\n",
       "      <td>-0.084886</td>\n",
       "      <td>-0.026328</td>\n",
       "      <td>-0.035968</td>\n",
       "      <td>-0.034194</td>\n",
       "      <td>0.041277</td>\n",
       "      <td>-0.051671</td>\n",
       "      <td>-0.082381</td>\n",
       "      <td>-0.046641</td>\n",
       "    </tr>\n",
       "  </tbody>\n",
       "</table>\n",
       "</div>"
      ],
      "text/plain": [
       "          0         1         2         3         4         5         6  \\\n",
       "0  0.023546  0.050680 -0.037463 -0.046985 -0.091006 -0.075530 -0.032356   \n",
       "1 -0.078165 -0.044642 -0.073030 -0.057314 -0.084126 -0.074277 -0.024993   \n",
       "2 -0.030942  0.050680  0.001339 -0.005671  0.064477  0.049416 -0.047082   \n",
       "3 -0.005515  0.050680  0.001339 -0.084857 -0.011201 -0.016658  0.048640   \n",
       "4 -0.020045 -0.044642 -0.084886 -0.026328 -0.035968 -0.034194  0.041277   \n",
       "\n",
       "          7         8         9  \n",
       "0 -0.039493 -0.030751 -0.013504  \n",
       "1 -0.039493 -0.018118 -0.083920  \n",
       "2  0.108111  0.083797  0.003064  \n",
       "3 -0.039493 -0.041180 -0.088062  \n",
       "4 -0.051671 -0.082381 -0.046641  "
      ]
     },
     "execution_count": 78,
     "metadata": {},
     "output_type": "execute_result"
    }
   ],
   "source": [
    "dd = pd.read_csv('test.csv',header=None)\n",
    "print(dd.shape)\n",
    "print(dd.columns)\n",
    "dd.head()"
   ]
  },
  {
   "cell_type": "code",
   "execution_count": 79,
   "id": "4cd5bd40",
   "metadata": {},
   "outputs": [],
   "source": [
    "deploy_x = dd.drop([1],axis=1)\n",
    "dd_res = clf.predict(deploy_x)\n",
    "# import numpy as np\n",
    "# res = np.round(dd_res,5)"
   ]
  },
  {
   "cell_type": "code",
   "execution_count": 80,
   "id": "e2f234d1",
   "metadata": {},
   "outputs": [],
   "source": [
    "np.savetxt('result.csv',dd_res)"
   ]
  },
  {
   "cell_type": "code",
   "execution_count": null,
   "id": "d058dce9",
   "metadata": {},
   "outputs": [],
   "source": []
  }
 ],
 "metadata": {
  "kernelspec": {
   "display_name": "Python 3",
   "language": "python",
   "name": "python3"
  },
  "language_info": {
   "codemirror_mode": {
    "name": "ipython",
    "version": 3
   },
   "file_extension": ".py",
   "mimetype": "text/x-python",
   "name": "python",
   "nbconvert_exporter": "python",
   "pygments_lexer": "ipython3",
   "version": "3.8.8"
  }
 },
 "nbformat": 4,
 "nbformat_minor": 5
}
