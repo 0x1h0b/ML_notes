{
 "cells": [
  {
   "cell_type": "code",
   "execution_count": 1,
   "id": "144698f7",
   "metadata": {},
   "outputs": [],
   "source": [
    "import pandas as pd\n",
    "import numpy as np"
   ]
  },
  {
   "cell_type": "code",
   "execution_count": 2,
   "id": "c329bdbf",
   "metadata": {},
   "outputs": [
    {
     "name": "stdout",
     "output_type": "stream",
     "text": [
      "(379, 14)\n"
     ]
    },
    {
     "data": {
      "text/html": [
       "<div>\n",
       "<style scoped>\n",
       "    .dataframe tbody tr th:only-of-type {\n",
       "        vertical-align: middle;\n",
       "    }\n",
       "\n",
       "    .dataframe tbody tr th {\n",
       "        vertical-align: top;\n",
       "    }\n",
       "\n",
       "    .dataframe thead th {\n",
       "        text-align: right;\n",
       "    }\n",
       "</style>\n",
       "<table border=\"1\" class=\"dataframe\">\n",
       "  <thead>\n",
       "    <tr style=\"text-align: right;\">\n",
       "      <th></th>\n",
       "      <th># CRIM</th>\n",
       "      <th>ZN</th>\n",
       "      <th>INDUS</th>\n",
       "      <th>CHAS</th>\n",
       "      <th>NOX</th>\n",
       "      <th>RM</th>\n",
       "      <th>AGE</th>\n",
       "      <th>DIS</th>\n",
       "      <th>RAD</th>\n",
       "      <th>TAX</th>\n",
       "      <th>PTRATIO</th>\n",
       "      <th>B</th>\n",
       "      <th>LSTAT</th>\n",
       "      <th>Y</th>\n",
       "    </tr>\n",
       "  </thead>\n",
       "  <tbody>\n",
       "    <tr>\n",
       "      <th>0</th>\n",
       "      <td>-0.407850</td>\n",
       "      <td>-0.487722</td>\n",
       "      <td>-1.266023</td>\n",
       "      <td>-0.272599</td>\n",
       "      <td>-0.576134</td>\n",
       "      <td>1.239974</td>\n",
       "      <td>0.840122</td>\n",
       "      <td>-0.520264</td>\n",
       "      <td>-0.752922</td>\n",
       "      <td>-1.278354</td>\n",
       "      <td>-0.303094</td>\n",
       "      <td>0.410571</td>\n",
       "      <td>-1.097990</td>\n",
       "      <td>37.9</td>\n",
       "    </tr>\n",
       "    <tr>\n",
       "      <th>1</th>\n",
       "      <td>-0.407374</td>\n",
       "      <td>-0.487722</td>\n",
       "      <td>0.247057</td>\n",
       "      <td>-0.272599</td>\n",
       "      <td>-1.016689</td>\n",
       "      <td>0.001946</td>\n",
       "      <td>-0.838337</td>\n",
       "      <td>0.336351</td>\n",
       "      <td>-0.523001</td>\n",
       "      <td>-0.060801</td>\n",
       "      <td>0.113032</td>\n",
       "      <td>0.291169</td>\n",
       "      <td>-0.520474</td>\n",
       "      <td>21.4</td>\n",
       "    </tr>\n",
       "    <tr>\n",
       "      <th>2</th>\n",
       "      <td>0.125179</td>\n",
       "      <td>-0.487722</td>\n",
       "      <td>1.015999</td>\n",
       "      <td>-0.272599</td>\n",
       "      <td>1.367490</td>\n",
       "      <td>-0.439699</td>\n",
       "      <td>0.687212</td>\n",
       "      <td>-0.577309</td>\n",
       "      <td>1.661245</td>\n",
       "      <td>1.530926</td>\n",
       "      <td>0.806576</td>\n",
       "      <td>-3.795795</td>\n",
       "      <td>0.891076</td>\n",
       "      <td>12.7</td>\n",
       "    </tr>\n",
       "    <tr>\n",
       "      <th>3</th>\n",
       "      <td>0.028304</td>\n",
       "      <td>-0.487722</td>\n",
       "      <td>1.015999</td>\n",
       "      <td>-0.272599</td>\n",
       "      <td>1.859875</td>\n",
       "      <td>-0.047918</td>\n",
       "      <td>0.801005</td>\n",
       "      <td>-0.712836</td>\n",
       "      <td>1.661245</td>\n",
       "      <td>1.530926</td>\n",
       "      <td>0.806576</td>\n",
       "      <td>-0.066050</td>\n",
       "      <td>0.215438</td>\n",
       "      <td>19.9</td>\n",
       "    </tr>\n",
       "    <tr>\n",
       "      <th>4</th>\n",
       "      <td>-0.412408</td>\n",
       "      <td>-0.487722</td>\n",
       "      <td>-0.969827</td>\n",
       "      <td>-0.272599</td>\n",
       "      <td>-0.913029</td>\n",
       "      <td>-0.384137</td>\n",
       "      <td>-0.834781</td>\n",
       "      <td>0.300508</td>\n",
       "      <td>-0.752922</td>\n",
       "      <td>-0.957633</td>\n",
       "      <td>0.020560</td>\n",
       "      <td>0.431074</td>\n",
       "      <td>0.029007</td>\n",
       "      <td>22.5</td>\n",
       "    </tr>\n",
       "  </tbody>\n",
       "</table>\n",
       "</div>"
      ],
      "text/plain": [
       "     # CRIM        ZN     INDUS      CHAS       NOX        RM       AGE  \\\n",
       "0 -0.407850 -0.487722 -1.266023 -0.272599 -0.576134  1.239974  0.840122   \n",
       "1 -0.407374 -0.487722  0.247057 -0.272599 -1.016689  0.001946 -0.838337   \n",
       "2  0.125179 -0.487722  1.015999 -0.272599  1.367490 -0.439699  0.687212   \n",
       "3  0.028304 -0.487722  1.015999 -0.272599  1.859875 -0.047918  0.801005   \n",
       "4 -0.412408 -0.487722 -0.969827 -0.272599 -0.913029 -0.384137 -0.834781   \n",
       "\n",
       "        DIS       RAD       TAX   PTRATIO         B     LSTAT     Y  \n",
       "0 -0.520264 -0.752922 -1.278354 -0.303094  0.410571 -1.097990  37.9  \n",
       "1  0.336351 -0.523001 -0.060801  0.113032  0.291169 -0.520474  21.4  \n",
       "2 -0.577309  1.661245  1.530926  0.806576 -3.795795  0.891076  12.7  \n",
       "3 -0.712836  1.661245  1.530926  0.806576 -0.066050  0.215438  19.9  \n",
       "4  0.300508 -0.752922 -0.957633  0.020560  0.431074  0.029007  22.5  "
      ]
     },
     "execution_count": 2,
     "metadata": {},
     "output_type": "execute_result"
    }
   ],
   "source": [
    "df = pd.read_csv('boston_x_y_train.csv')\n",
    "print(df.shape)\n",
    "df.head()"
   ]
  },
  {
   "cell_type": "code",
   "execution_count": 3,
   "id": "73fa75d5",
   "metadata": {},
   "outputs": [
    {
     "name": "stdout",
     "output_type": "stream",
     "text": [
      "<class 'pandas.core.frame.DataFrame'>\n",
      "RangeIndex: 379 entries, 0 to 378\n",
      "Data columns (total 14 columns):\n",
      " #   Column    Non-Null Count  Dtype  \n",
      "---  ------    --------------  -----  \n",
      " 0   # CRIM    379 non-null    float64\n",
      " 1    ZN       379 non-null    float64\n",
      " 2    INDUS    379 non-null    float64\n",
      " 3    CHAS     379 non-null    float64\n",
      " 4    NOX      379 non-null    float64\n",
      " 5    RM       379 non-null    float64\n",
      " 6    AGE      379 non-null    float64\n",
      " 7    DIS      379 non-null    float64\n",
      " 8    RAD      379 non-null    float64\n",
      " 9    TAX      379 non-null    float64\n",
      " 10   PTRATIO  379 non-null    float64\n",
      " 11   B        379 non-null    float64\n",
      " 12   LSTAT    379 non-null    float64\n",
      " 13   Y        379 non-null    float64\n",
      "dtypes: float64(14)\n",
      "memory usage: 41.6 KB\n"
     ]
    }
   ],
   "source": [
    "df.info()"
   ]
  },
  {
   "cell_type": "code",
   "execution_count": 4,
   "id": "753d9dd6",
   "metadata": {},
   "outputs": [
    {
     "data": {
      "text/plain": [
       "# CRIM     -0.369008\n",
       " ZN         0.315195\n",
       " INDUS     -0.484045\n",
       " CHAS       0.174785\n",
       " NOX       -0.417313\n",
       " RM         0.673201\n",
       " AGE       -0.357291\n",
       " DIS        0.233597\n",
       " RAD       -0.353358\n",
       " TAX       -0.447537\n",
       " PTRATIO   -0.494706\n",
       " B          0.329809\n",
       " LSTAT     -0.744355\n",
       " Y          1.000000\n",
       "Name:  Y, dtype: float64"
      ]
     },
     "execution_count": 4,
     "metadata": {},
     "output_type": "execute_result"
    }
   ],
   "source": [
    "df.corr()[' Y']"
   ]
  },
  {
   "cell_type": "code",
   "execution_count": 5,
   "id": "3f0c0bff",
   "metadata": {},
   "outputs": [
    {
     "data": {
      "text/plain": [
       "Index(['# CRIM', ' ZN', ' INDUS', ' CHAS', ' NOX', ' RM', ' AGE', ' DIS',\n",
       "       ' RAD', ' TAX', ' PTRATIO', ' B', ' LSTAT', ' Y'],\n",
       "      dtype='object')"
      ]
     },
     "execution_count": 5,
     "metadata": {},
     "output_type": "execute_result"
    }
   ],
   "source": [
    "df.columns"
   ]
  },
  {
   "cell_type": "code",
   "execution_count": 6,
   "id": "ab1d70c7",
   "metadata": {},
   "outputs": [],
   "source": [
    "X=df.drop(' Y',axis=1)\n",
    "Y=df[' Y']"
   ]
  },
  {
   "cell_type": "code",
   "execution_count": 7,
   "id": "27ffcfda",
   "metadata": {},
   "outputs": [],
   "source": [
    "from sklearn.model_selection import train_test_split\n",
    "\n",
    "x_train,x_test,y_train,y_test = train_test_split(X,Y,random_state=10)"
   ]
  },
  {
   "cell_type": "code",
   "execution_count": 8,
   "id": "23ac165d",
   "metadata": {},
   "outputs": [
    {
     "name": "stdout",
     "output_type": "stream",
     "text": [
      "0.7352713736705936\n"
     ]
    }
   ],
   "source": [
    "from sklearn.linear_model import LinearRegression \n",
    "from sklearn.metrics import r2_score\n",
    "\n",
    "clf = LinearRegression()\n",
    "clf.fit(x_train,y_train)\n",
    "y_pred = clf.predict(x_test)\n",
    "print(r2_score(y_test,y_pred))"
   ]
  },
  {
   "cell_type": "code",
   "execution_count": 11,
   "id": "94d53ab9",
   "metadata": {},
   "outputs": [
    {
     "name": "stdout",
     "output_type": "stream",
     "text": [
      "0.9017268763521882\n"
     ]
    }
   ],
   "source": [
    "from sklearn.ensemble import GradientBoostingRegressor\n",
    "clf_gd = GradientBoostingRegressor()\n",
    "\n",
    "clf_gd.fit(x_train,y_train)\n",
    "y_pred_gd = clf_gd.predict(x_test)\n",
    "print(r2_score(y_test,y_pred_gd))"
   ]
  },
  {
   "cell_type": "code",
   "execution_count": 12,
   "id": "d0b178cf",
   "metadata": {},
   "outputs": [
    {
     "name": "stdout",
     "output_type": "stream",
     "text": [
      "(127, 13)\n",
      "Int64Index([0, 1, 2, 3, 4, 5, 6, 7, 8, 9, 10, 11, 12], dtype='int64')\n"
     ]
    },
    {
     "data": {
      "text/html": [
       "<div>\n",
       "<style scoped>\n",
       "    .dataframe tbody tr th:only-of-type {\n",
       "        vertical-align: middle;\n",
       "    }\n",
       "\n",
       "    .dataframe tbody tr th {\n",
       "        vertical-align: top;\n",
       "    }\n",
       "\n",
       "    .dataframe thead th {\n",
       "        text-align: right;\n",
       "    }\n",
       "</style>\n",
       "<table border=\"1\" class=\"dataframe\">\n",
       "  <thead>\n",
       "    <tr style=\"text-align: right;\">\n",
       "      <th></th>\n",
       "      <th>0</th>\n",
       "      <th>1</th>\n",
       "      <th>2</th>\n",
       "      <th>3</th>\n",
       "      <th>4</th>\n",
       "      <th>5</th>\n",
       "      <th>6</th>\n",
       "      <th>7</th>\n",
       "      <th>8</th>\n",
       "      <th>9</th>\n",
       "      <th>10</th>\n",
       "      <th>11</th>\n",
       "      <th>12</th>\n",
       "    </tr>\n",
       "  </thead>\n",
       "  <tbody>\n",
       "    <tr>\n",
       "      <th>0</th>\n",
       "      <td>2.918166</td>\n",
       "      <td>-0.487722</td>\n",
       "      <td>1.015999</td>\n",
       "      <td>-0.272599</td>\n",
       "      <td>0.365444</td>\n",
       "      <td>-1.609343</td>\n",
       "      <td>1.117494</td>\n",
       "      <td>-1.048494</td>\n",
       "      <td>1.661245</td>\n",
       "      <td>1.530926</td>\n",
       "      <td>0.806576</td>\n",
       "      <td>-1.597551</td>\n",
       "      <td>1.041062</td>\n",
       "    </tr>\n",
       "    <tr>\n",
       "      <th>1</th>\n",
       "      <td>-0.403392</td>\n",
       "      <td>-0.487722</td>\n",
       "      <td>0.406098</td>\n",
       "      <td>-0.272599</td>\n",
       "      <td>-1.016689</td>\n",
       "      <td>0.560412</td>\n",
       "      <td>-1.332629</td>\n",
       "      <td>1.029344</td>\n",
       "      <td>-0.637962</td>\n",
       "      <td>-0.708183</td>\n",
       "      <td>-1.135347</td>\n",
       "      <td>0.441052</td>\n",
       "      <td>-0.894738</td>\n",
       "    </tr>\n",
       "    <tr>\n",
       "      <th>2</th>\n",
       "      <td>-0.413178</td>\n",
       "      <td>-0.487722</td>\n",
       "      <td>0.115738</td>\n",
       "      <td>-0.272599</td>\n",
       "      <td>0.158124</td>\n",
       "      <td>-0.234548</td>\n",
       "      <td>0.288933</td>\n",
       "      <td>-0.716639</td>\n",
       "      <td>-0.982843</td>\n",
       "      <td>-0.803212</td>\n",
       "      <td>1.176466</td>\n",
       "      <td>0.441052</td>\n",
       "      <td>-0.500850</td>\n",
       "    </tr>\n",
       "    <tr>\n",
       "      <th>3</th>\n",
       "      <td>-0.412649</td>\n",
       "      <td>0.413589</td>\n",
       "      <td>-0.802031</td>\n",
       "      <td>-0.272599</td>\n",
       "      <td>-0.999412</td>\n",
       "      <td>-0.408356</td>\n",
       "      <td>-1.677566</td>\n",
       "      <td>1.435452</td>\n",
       "      <td>-0.637962</td>\n",
       "      <td>-0.981390</td>\n",
       "      <td>-0.765457</td>\n",
       "      <td>0.441052</td>\n",
       "      <td>-0.591963</td>\n",
       "    </tr>\n",
       "    <tr>\n",
       "      <th>4</th>\n",
       "      <td>-0.405882</td>\n",
       "      <td>-0.487722</td>\n",
       "      <td>-0.375976</td>\n",
       "      <td>-0.272599</td>\n",
       "      <td>-0.299707</td>\n",
       "      <td>-0.127698</td>\n",
       "      <td>-0.504068</td>\n",
       "      <td>-0.483566</td>\n",
       "      <td>-0.523001</td>\n",
       "      <td>-0.143951</td>\n",
       "      <td>1.130230</td>\n",
       "      <td>0.403663</td>\n",
       "      <td>0.048631</td>\n",
       "    </tr>\n",
       "  </tbody>\n",
       "</table>\n",
       "</div>"
      ],
      "text/plain": [
       "         0         1         2         3         4         5         6   \\\n",
       "0  2.918166 -0.487722  1.015999 -0.272599  0.365444 -1.609343  1.117494   \n",
       "1 -0.403392 -0.487722  0.406098 -0.272599 -1.016689  0.560412 -1.332629   \n",
       "2 -0.413178 -0.487722  0.115738 -0.272599  0.158124 -0.234548  0.288933   \n",
       "3 -0.412649  0.413589 -0.802031 -0.272599 -0.999412 -0.408356 -1.677566   \n",
       "4 -0.405882 -0.487722 -0.375976 -0.272599 -0.299707 -0.127698 -0.504068   \n",
       "\n",
       "         7         8         9         10        11        12  \n",
       "0 -1.048494  1.661245  1.530926  0.806576 -1.597551  1.041062  \n",
       "1  1.029344 -0.637962 -0.708183 -1.135347  0.441052 -0.894738  \n",
       "2 -0.716639 -0.982843 -0.803212  1.176466  0.441052 -0.500850  \n",
       "3  1.435452 -0.637962 -0.981390 -0.765457  0.441052 -0.591963  \n",
       "4 -0.483566 -0.523001 -0.143951  1.130230  0.403663  0.048631  "
      ]
     },
     "execution_count": 12,
     "metadata": {},
     "output_type": "execute_result"
    }
   ],
   "source": [
    "# final model\n",
    "dd = pd.read_csv('boston_x_test.csv',header=None)\n",
    "print(dd.shape)\n",
    "print(dd.columns)\n",
    "dd.head()"
   ]
  },
  {
   "cell_type": "code",
   "execution_count": 10,
   "id": "2a9e2dd9",
   "metadata": {},
   "outputs": [],
   "source": [
    "# model = LinearRegression()\n",
    "# model.fit(X,Y)\n",
    "# y_final = model.predict(dd)\n",
    "# y_final"
   ]
  },
  {
   "cell_type": "code",
   "execution_count": 17,
   "id": "495a8e23",
   "metadata": {},
   "outputs": [],
   "source": [
    "# np.savetxt('result_boston.csv',y_final)"
   ]
  },
  {
   "cell_type": "code",
   "execution_count": 13,
   "id": "a63f31c4",
   "metadata": {},
   "outputs": [],
   "source": [
    "model = GradientBoostingRegressor()\n",
    "model.fit(X,Y)\n",
    "y_final = model.predict(dd)\n",
    "np.savetxt('result_boston_gdBoost.csv',y_final)"
   ]
  },
  {
   "cell_type": "code",
   "execution_count": null,
   "id": "310a9181",
   "metadata": {},
   "outputs": [],
   "source": []
  }
 ],
 "metadata": {
  "kernelspec": {
   "display_name": "Python 3",
   "language": "python",
   "name": "python3"
  },
  "language_info": {
   "codemirror_mode": {
    "name": "ipython",
    "version": 3
   },
   "file_extension": ".py",
   "mimetype": "text/x-python",
   "name": "python",
   "nbconvert_exporter": "python",
   "pygments_lexer": "ipython3",
   "version": "3.8.8"
  }
 },
 "nbformat": 4,
 "nbformat_minor": 5
}
