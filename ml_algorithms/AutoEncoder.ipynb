{
 "cells": [
  {
   "cell_type": "markdown",
   "id": "2121111b",
   "metadata": {},
   "source": [
    "# Autoencoders\n",
    "\n",
    "- Following notebook demonstrates basic implementations of autoencoders using mnist img data.\n"
   ]
  },
  {
   "cell_type": "code",
   "execution_count": 1,
   "id": "ec05a8a9",
   "metadata": {},
   "outputs": [],
   "source": [
    "%matplotlib inline\n",
    "%config InlineBackend.figure_format = 'retina'\n",
    "import matplotlib.pyplot as plt\n",
    "import pandas as pd\n",
    "import numpy as np\n",
    "import seaborn as sns\n",
    "import warnings\n",
    "\n",
    "warnings.filterwarnings('ignore')"
   ]
  },
  {
   "cell_type": "markdown",
   "id": "0488ea7c",
   "metadata": {},
   "source": [
    "### load dataset"
   ]
  },
  {
   "cell_type": "code",
   "execution_count": 11,
   "id": "60b8c32c",
   "metadata": {},
   "outputs": [
    {
     "name": "stdout",
     "output_type": "stream",
     "text": [
      "(60000, 785)\n"
     ]
    },
    {
     "data": {
      "text/html": [
       "<div>\n",
       "<style scoped>\n",
       "    .dataframe tbody tr th:only-of-type {\n",
       "        vertical-align: middle;\n",
       "    }\n",
       "\n",
       "    .dataframe tbody tr th {\n",
       "        vertical-align: top;\n",
       "    }\n",
       "\n",
       "    .dataframe thead th {\n",
       "        text-align: right;\n",
       "    }\n",
       "</style>\n",
       "<table border=\"1\" class=\"dataframe\">\n",
       "  <thead>\n",
       "    <tr style=\"text-align: right;\">\n",
       "      <th></th>\n",
       "      <th>label</th>\n",
       "      <th>1x1</th>\n",
       "      <th>1x2</th>\n",
       "      <th>1x3</th>\n",
       "      <th>1x4</th>\n",
       "      <th>1x5</th>\n",
       "      <th>1x6</th>\n",
       "      <th>1x7</th>\n",
       "      <th>1x8</th>\n",
       "      <th>1x9</th>\n",
       "      <th>...</th>\n",
       "      <th>28x19</th>\n",
       "      <th>28x20</th>\n",
       "      <th>28x21</th>\n",
       "      <th>28x22</th>\n",
       "      <th>28x23</th>\n",
       "      <th>28x24</th>\n",
       "      <th>28x25</th>\n",
       "      <th>28x26</th>\n",
       "      <th>28x27</th>\n",
       "      <th>28x28</th>\n",
       "    </tr>\n",
       "  </thead>\n",
       "  <tbody>\n",
       "    <tr>\n",
       "      <th>0</th>\n",
       "      <td>5</td>\n",
       "      <td>0</td>\n",
       "      <td>0</td>\n",
       "      <td>0</td>\n",
       "      <td>0</td>\n",
       "      <td>0</td>\n",
       "      <td>0</td>\n",
       "      <td>0</td>\n",
       "      <td>0</td>\n",
       "      <td>0</td>\n",
       "      <td>...</td>\n",
       "      <td>0</td>\n",
       "      <td>0</td>\n",
       "      <td>0</td>\n",
       "      <td>0</td>\n",
       "      <td>0</td>\n",
       "      <td>0</td>\n",
       "      <td>0</td>\n",
       "      <td>0</td>\n",
       "      <td>0</td>\n",
       "      <td>0</td>\n",
       "    </tr>\n",
       "    <tr>\n",
       "      <th>1</th>\n",
       "      <td>0</td>\n",
       "      <td>0</td>\n",
       "      <td>0</td>\n",
       "      <td>0</td>\n",
       "      <td>0</td>\n",
       "      <td>0</td>\n",
       "      <td>0</td>\n",
       "      <td>0</td>\n",
       "      <td>0</td>\n",
       "      <td>0</td>\n",
       "      <td>...</td>\n",
       "      <td>0</td>\n",
       "      <td>0</td>\n",
       "      <td>0</td>\n",
       "      <td>0</td>\n",
       "      <td>0</td>\n",
       "      <td>0</td>\n",
       "      <td>0</td>\n",
       "      <td>0</td>\n",
       "      <td>0</td>\n",
       "      <td>0</td>\n",
       "    </tr>\n",
       "    <tr>\n",
       "      <th>2</th>\n",
       "      <td>4</td>\n",
       "      <td>0</td>\n",
       "      <td>0</td>\n",
       "      <td>0</td>\n",
       "      <td>0</td>\n",
       "      <td>0</td>\n",
       "      <td>0</td>\n",
       "      <td>0</td>\n",
       "      <td>0</td>\n",
       "      <td>0</td>\n",
       "      <td>...</td>\n",
       "      <td>0</td>\n",
       "      <td>0</td>\n",
       "      <td>0</td>\n",
       "      <td>0</td>\n",
       "      <td>0</td>\n",
       "      <td>0</td>\n",
       "      <td>0</td>\n",
       "      <td>0</td>\n",
       "      <td>0</td>\n",
       "      <td>0</td>\n",
       "    </tr>\n",
       "  </tbody>\n",
       "</table>\n",
       "<p>3 rows × 785 columns</p>\n",
       "</div>"
      ],
      "text/plain": [
       "   label  1x1  1x2  1x3  1x4  1x5  1x6  1x7  1x8  1x9  ...  28x19  28x20  \\\n",
       "0      5    0    0    0    0    0    0    0    0    0  ...      0      0   \n",
       "1      0    0    0    0    0    0    0    0    0    0  ...      0      0   \n",
       "2      4    0    0    0    0    0    0    0    0    0  ...      0      0   \n",
       "\n",
       "   28x21  28x22  28x23  28x24  28x25  28x26  28x27  28x28  \n",
       "0      0      0      0      0      0      0      0      0  \n",
       "1      0      0      0      0      0      0      0      0  \n",
       "2      0      0      0      0      0      0      0      0  \n",
       "\n",
       "[3 rows x 785 columns]"
      ]
     },
     "execution_count": 11,
     "metadata": {},
     "output_type": "execute_result"
    }
   ],
   "source": [
    "data = pd.read_csv('datasets/mnist/mnist_train.csv')\n",
    "print(data.shape)\n",
    "data.head(3)"
   ]
  },
  {
   "cell_type": "code",
   "execution_count": 14,
   "id": "bc38cabd",
   "metadata": {},
   "outputs": [
    {
     "data": {
      "text/html": [
       "<div>\n",
       "<style scoped>\n",
       "    .dataframe tbody tr th:only-of-type {\n",
       "        vertical-align: middle;\n",
       "    }\n",
       "\n",
       "    .dataframe tbody tr th {\n",
       "        vertical-align: top;\n",
       "    }\n",
       "\n",
       "    .dataframe thead th {\n",
       "        text-align: right;\n",
       "    }\n",
       "</style>\n",
       "<table border=\"1\" class=\"dataframe\">\n",
       "  <thead>\n",
       "    <tr style=\"text-align: right;\">\n",
       "      <th></th>\n",
       "      <th>1x1</th>\n",
       "      <th>1x2</th>\n",
       "      <th>1x3</th>\n",
       "      <th>1x4</th>\n",
       "      <th>1x5</th>\n",
       "      <th>1x6</th>\n",
       "      <th>1x7</th>\n",
       "      <th>1x8</th>\n",
       "      <th>1x9</th>\n",
       "      <th>1x10</th>\n",
       "      <th>...</th>\n",
       "      <th>28x19</th>\n",
       "      <th>28x20</th>\n",
       "      <th>28x21</th>\n",
       "      <th>28x22</th>\n",
       "      <th>28x23</th>\n",
       "      <th>28x24</th>\n",
       "      <th>28x25</th>\n",
       "      <th>28x26</th>\n",
       "      <th>28x27</th>\n",
       "      <th>28x28</th>\n",
       "    </tr>\n",
       "  </thead>\n",
       "  <tbody>\n",
       "    <tr>\n",
       "      <th>0</th>\n",
       "      <td>0</td>\n",
       "      <td>0</td>\n",
       "      <td>0</td>\n",
       "      <td>0</td>\n",
       "      <td>0</td>\n",
       "      <td>0</td>\n",
       "      <td>0</td>\n",
       "      <td>0</td>\n",
       "      <td>0</td>\n",
       "      <td>0</td>\n",
       "      <td>...</td>\n",
       "      <td>0</td>\n",
       "      <td>0</td>\n",
       "      <td>0</td>\n",
       "      <td>0</td>\n",
       "      <td>0</td>\n",
       "      <td>0</td>\n",
       "      <td>0</td>\n",
       "      <td>0</td>\n",
       "      <td>0</td>\n",
       "      <td>0</td>\n",
       "    </tr>\n",
       "  </tbody>\n",
       "</table>\n",
       "<p>1 rows × 784 columns</p>\n",
       "</div>"
      ],
      "text/plain": [
       "   1x1  1x2  1x3  1x4  1x5  1x6  1x7  1x8  1x9  1x10  ...  28x19  28x20  \\\n",
       "0    0    0    0    0    0    0    0    0    0     0  ...      0      0   \n",
       "\n",
       "   28x21  28x22  28x23  28x24  28x25  28x26  28x27  28x28  \n",
       "0      0      0      0      0      0      0      0      0  \n",
       "\n",
       "[1 rows x 784 columns]"
      ]
     },
     "execution_count": 14,
     "metadata": {},
     "output_type": "execute_result"
    }
   ],
   "source": [
    "y = data['label']\n",
    "X = data.drop(['label'],axis=1)\n",
    "X.head(1)"
   ]
  },
  {
   "cell_type": "code",
   "execution_count": 16,
   "id": "5d4232d5",
   "metadata": {},
   "outputs": [
    {
     "name": "stdout",
     "output_type": "stream",
     "text": [
      "(42000, 784) (42000,)\n",
      "(18000, 784) (18000,)\n"
     ]
    }
   ],
   "source": [
    "from sklearn.model_selection import train_test_split\n",
    "X_train,X_test,y_train,y_test = train_test_split(X,y,test_size=0.3,random_state=123)\n",
    "print(X_train.shape,y_train.shape)\n",
    "print(X_test.shape,y_test.shape)"
   ]
  },
  {
   "cell_type": "code",
   "execution_count": 17,
   "id": "a7f677f5",
   "metadata": {},
   "outputs": [
    {
     "name": "stdout",
     "output_type": "stream",
     "text": [
      "5\n"
     ]
    },
    {
     "data": {
      "text/html": [
       "<div>\n",
       "<style scoped>\n",
       "    .dataframe tbody tr th:only-of-type {\n",
       "        vertical-align: middle;\n",
       "    }\n",
       "\n",
       "    .dataframe tbody tr th {\n",
       "        vertical-align: top;\n",
       "    }\n",
       "\n",
       "    .dataframe thead th {\n",
       "        text-align: right;\n",
       "    }\n",
       "</style>\n",
       "<table border=\"1\" class=\"dataframe\">\n",
       "  <thead>\n",
       "    <tr style=\"text-align: right;\">\n",
       "      <th></th>\n",
       "      <th>1x1</th>\n",
       "      <th>1x2</th>\n",
       "      <th>1x3</th>\n",
       "      <th>1x4</th>\n",
       "      <th>1x5</th>\n",
       "      <th>1x6</th>\n",
       "      <th>1x7</th>\n",
       "      <th>1x8</th>\n",
       "      <th>1x9</th>\n",
       "      <th>1x10</th>\n",
       "      <th>...</th>\n",
       "      <th>28x19</th>\n",
       "      <th>28x20</th>\n",
       "      <th>28x21</th>\n",
       "      <th>28x22</th>\n",
       "      <th>28x23</th>\n",
       "      <th>28x24</th>\n",
       "      <th>28x25</th>\n",
       "      <th>28x26</th>\n",
       "      <th>28x27</th>\n",
       "      <th>28x28</th>\n",
       "    </tr>\n",
       "  </thead>\n",
       "  <tbody>\n",
       "    <tr>\n",
       "      <th>50049</th>\n",
       "      <td>0</td>\n",
       "      <td>0</td>\n",
       "      <td>0</td>\n",
       "      <td>0</td>\n",
       "      <td>0</td>\n",
       "      <td>0</td>\n",
       "      <td>0</td>\n",
       "      <td>0</td>\n",
       "      <td>0</td>\n",
       "      <td>0</td>\n",
       "      <td>...</td>\n",
       "      <td>0</td>\n",
       "      <td>0</td>\n",
       "      <td>0</td>\n",
       "      <td>0</td>\n",
       "      <td>0</td>\n",
       "      <td>0</td>\n",
       "      <td>0</td>\n",
       "      <td>0</td>\n",
       "      <td>0</td>\n",
       "      <td>0</td>\n",
       "    </tr>\n",
       "    <tr>\n",
       "      <th>42117</th>\n",
       "      <td>0</td>\n",
       "      <td>0</td>\n",
       "      <td>0</td>\n",
       "      <td>0</td>\n",
       "      <td>0</td>\n",
       "      <td>0</td>\n",
       "      <td>0</td>\n",
       "      <td>0</td>\n",
       "      <td>0</td>\n",
       "      <td>0</td>\n",
       "      <td>...</td>\n",
       "      <td>0</td>\n",
       "      <td>0</td>\n",
       "      <td>0</td>\n",
       "      <td>0</td>\n",
       "      <td>0</td>\n",
       "      <td>0</td>\n",
       "      <td>0</td>\n",
       "      <td>0</td>\n",
       "      <td>0</td>\n",
       "      <td>0</td>\n",
       "    </tr>\n",
       "  </tbody>\n",
       "</table>\n",
       "<p>2 rows × 784 columns</p>\n",
       "</div>"
      ],
      "text/plain": [
       "       1x1  1x2  1x3  1x4  1x5  1x6  1x7  1x8  1x9  1x10  ...  28x19  28x20  \\\n",
       "50049    0    0    0    0    0    0    0    0    0     0  ...      0      0   \n",
       "42117    0    0    0    0    0    0    0    0    0     0  ...      0      0   \n",
       "\n",
       "       28x21  28x22  28x23  28x24  28x25  28x26  28x27  28x28  \n",
       "50049      0      0      0      0      0      0      0      0  \n",
       "42117      0      0      0      0      0      0      0      0  \n",
       "\n",
       "[2 rows x 784 columns]"
      ]
     },
     "execution_count": 17,
     "metadata": {},
     "output_type": "execute_result"
    }
   ],
   "source": [
    "print(y_train[0])\n",
    "X_train.head(2)"
   ]
  },
  {
   "cell_type": "code",
   "execution_count": 158,
   "id": "6e10c95a",
   "metadata": {},
   "outputs": [
    {
     "name": "stdout",
     "output_type": "stream",
     "text": [
      "<class 'pandas.core.frame.DataFrame'>\n",
      "Int64Index: 42000 entries, 50049 to 52734\n",
      "Columns: 784 entries, 1x1 to 28x28\n",
      "dtypes: int64(784)\n",
      "memory usage: 251.5 MB\n"
     ]
    }
   ],
   "source": [
    "X_train.info()"
   ]
  },
  {
   "cell_type": "code",
   "execution_count": 20,
   "id": "65147723",
   "metadata": {},
   "outputs": [],
   "source": [
    "def plot_image(img_arr):\n",
    "    plt.figure\n",
    "    plt.imshow(img_arr,cmap=\"gray\")\n",
    "    plt.show()"
   ]
  },
  {
   "cell_type": "code",
   "execution_count": 47,
   "id": "d5fdecbb",
   "metadata": {},
   "outputs": [
    {
     "name": "stdout",
     "output_type": "stream",
     "text": [
      "Image Value :-  0\n"
     ]
    },
    {
     "data": {
      "image/png": "[encoded data removed]",
      "text/plain": [
       "<Figure size 640x480 with 1 Axes>"
      ]
     },
     "metadata": {
      "image/png": {
       "height": 413,
       "width": 416
      }
     },
     "output_type": "display_data"
    }
   ],
   "source": [
    "print('Image Value :- ',y_train.values[5])\n",
    "plot_image(np.array(X_train.iloc[5,:]).reshape((28,28)))"
   ]
  },
  {
   "cell_type": "code",
   "execution_count": 50,
   "id": "a213428f",
   "metadata": {},
   "outputs": [
    {
     "name": "stdout",
     "output_type": "stream",
     "text": [
      "42000\n"
     ]
    }
   ],
   "source": [
    "X_train_final = X_train.values\n",
    "print(len(X_train_final))"
   ]
  },
  {
   "cell_type": "code",
   "execution_count": 145,
   "id": "36a6353f",
   "metadata": {},
   "outputs": [],
   "source": [
    "X_train_final = X_train_final.astype('float32') / 255.0"
   ]
  },
  {
   "cell_type": "code",
   "execution_count": 83,
   "id": "1c726f3c",
   "metadata": {},
   "outputs": [
    {
     "data": {
      "text/plain": [
       "784"
      ]
     },
     "execution_count": 83,
     "metadata": {},
     "output_type": "execute_result"
    }
   ],
   "source": [
    "len(X_train_final[0])"
   ]
  },
  {
   "cell_type": "code",
   "execution_count": 147,
   "id": "f2b78664",
   "metadata": {},
   "outputs": [
    {
     "data": {
      "text/plain": [
       "array([0., 0., 0., 0., 0., 0., 0., 0., 0., 0., 0., 0.], dtype=float32)"
      ]
     },
     "execution_count": 147,
     "metadata": {},
     "output_type": "execute_result"
    }
   ],
   "source": [
    "X_train_final[0][:12]"
   ]
  },
  {
   "cell_type": "markdown",
   "id": "0c1d4016",
   "metadata": {},
   "source": [
    "### Pytorch Implemetation"
   ]
  },
  {
   "cell_type": "code",
   "execution_count": 106,
   "id": "8f2b7be7",
   "metadata": {},
   "outputs": [],
   "source": [
    "import torch\n",
    "import torch.nn as nn\n",
    "\n",
    "from torch.nn.utils.clip_grad import clip_grad_norm"
   ]
  },
  {
   "cell_type": "code",
   "execution_count": 107,
   "id": "4ac099de",
   "metadata": {},
   "outputs": [],
   "source": [
    "# data loader class\n",
    "class my_data_loader:\n",
    "    def __init__(self,img_arr):\n",
    "        '''img_all dtype should be list or numpy array !\n",
    "           img_all , a list of img data\n",
    "        '''\n",
    "        self.img_arr = img_arr\n",
    "    \n",
    "    def __len__(self):\n",
    "        return len(self.img_arr)\n",
    "    \n",
    "    def __getitem__(self,idx):\n",
    "        img_ = np.array(self.img_arr[idx],dtype=\"float32\")        \n",
    "        return {\"img_ar\":img_}\n",
    "        "
   ]
  },
  {
   "cell_type": "code",
   "execution_count": 127,
   "id": "da1108cb",
   "metadata": {},
   "outputs": [],
   "source": [
    "class Model(nn.Module):\n",
    "    def __init__(self,in_dim,op_dim,code_dim):\n",
    "        super(Model,self).__init__()\n",
    "        # Encoder layer\n",
    "        self.enc1 = nn.Sequential(nn.Linear(in_dim,512),nn.ReLU6())\n",
    "        self.enc2 = nn.Sequential(nn.Linear(512,code_dim),nn.ReLU6())\n",
    "        # code layer\n",
    "        self.code = nn.Sequential(nn.Linear(code_dim,code_dim),nn.ReLU6())\n",
    "        # Decoder layer\n",
    "        self.dec1 = nn.Sequential(nn.Linear(code_dim,512),nn.ReLU6())\n",
    "        self.dec2 = nn.Sequential(nn.Linear(512,in_dim),nn.Sigmoid())\n",
    "    \n",
    "    def forward(self,input_img):\n",
    "        enc_out1 = self.enc1(input_img)\n",
    "        enc_out2 = self.enc2(enc_out1)\n",
    "        code_out = self.code(enc_out2)\n",
    "        dec_out1 = self.dec1(code_out)\n",
    "        dec_out2 = self.dec2(dec_out1)\n",
    "        return dec_out2"
   ]
  },
  {
   "cell_type": "code",
   "execution_count": 148,
   "id": "59b0ea60",
   "metadata": {},
   "outputs": [],
   "source": [
    "train_batch_size = 64\n",
    "\n",
    "train_data = my_data_loader(img_arr=X_train_final)\n",
    "train_dataloader = torch.utils.data.DataLoader(train_data,batch_size=train_batch_size,shuffle=True)"
   ]
  },
  {
   "cell_type": "code",
   "execution_count": 149,
   "id": "9e6ef6a5",
   "metadata": {},
   "outputs": [
    {
     "data": {
      "text/plain": [
       "(784,)"
      ]
     },
     "execution_count": 149,
     "metadata": {},
     "output_type": "execute_result"
    }
   ],
   "source": [
    "train_data[0][\"img_ar\"].shape"
   ]
  },
  {
   "cell_type": "code",
   "execution_count": 150,
   "id": "098da049",
   "metadata": {},
   "outputs": [],
   "source": [
    "def train(model, optimizer, scheduler, loss_function, epochs,train_dataloader, clip_value=2):\n",
    "    model.train()\n",
    "    for epoch in range(epochs):\n",
    "        best_loss = []\n",
    "        for step, batch in enumerate(train_dataloader): \n",
    "            batch_inputs = batch['img_ar']\n",
    "            model.zero_grad()\n",
    "            outputs = model(input_img=batch_inputs)\n",
    "            loss = loss_function(outputs,batch_inputs)\n",
    "            best_loss.append(loss)\n",
    "            loss.backward()\n",
    "            clip_grad_norm(model.parameters(), clip_value)\n",
    "            optimizer.step()\n",
    "            scheduler.step()\n",
    "#             print(f\"step > {step},loss > {loss}\")\n",
    "        loss2 = sum(best_loss)/len(best_loss)\n",
    "        print(f'Epoch : {epoch} ,Train loss : {loss2}')\n",
    "                \n",
    "    return model\n"
   ]
  },
  {
   "cell_type": "code",
   "execution_count": 151,
   "id": "def68256",
   "metadata": {},
   "outputs": [
    {
     "name": "stdout",
     "output_type": "stream",
     "text": [
      "Epoch : 0 ,Train loss : 0.3567396104335785\n",
      "Epoch : 1 ,Train loss : 0.2531765103340149\n",
      "Epoch : 2 ,Train loss : 0.23077304661273956\n"
     ]
    }
   ],
   "source": [
    "epochs = 3\n",
    "num_train_steps = len(train_data_loader) * epochs\n",
    "input_dim, output_dim  = len(X_train_final[0]),len(X_train_final[0])\n",
    "code_dim = 64\n",
    "\n",
    "model = Model(in_dim=input_dim,op_dim=output_dim,code_dim=code_dim)\n",
    "\n",
    "optimizer = torch.optim.AdamW(model.parameters(),lr=3e-5,eps=1e-8)\n",
    "# optimizer = torch.optim.SGD(model.parameters(), lr=0.01)\n",
    "\n",
    "scheduler = torch.optim.lr_scheduler.LinearLR(optimizer)\n",
    "\n",
    "loss_function = nn.BCELoss()\n",
    "\n",
    "\n",
    "model = train(model, optimizer, scheduler, loss_function, epochs,train_dataloader)"
   ]
  },
  {
   "cell_type": "code",
   "execution_count": 152,
   "id": "48fb5543",
   "metadata": {},
   "outputs": [],
   "source": [
    "torch.save(model.state_dict(),f'./my_autoencoder_model')"
   ]
  },
  {
   "cell_type": "markdown",
   "id": "92e9ebc1",
   "metadata": {},
   "source": [
    "### test the autoencoder"
   ]
  },
  {
   "cell_type": "code",
   "execution_count": 153,
   "id": "3d2abb1e",
   "metadata": {},
   "outputs": [
    {
     "data": {
      "text/plain": [
       "(784,)"
      ]
     },
     "execution_count": 153,
     "metadata": {},
     "output_type": "execute_result"
    }
   ],
   "source": [
    "x_test_final = X_test.values\n",
    "x_test_final = x_test_final.astype('float32') / 255.0\n",
    "# len(y_train_final)\n",
    "x_test_final[0].shape"
   ]
  },
  {
   "cell_type": "code",
   "execution_count": 198,
   "id": "c5e61fab",
   "metadata": {},
   "outputs": [],
   "source": [
    "def predict_single_img(model,test_img):\n",
    "    res=[]\n",
    "    model.eval()\n",
    "    with torch.no_grad():\n",
    "        output = model(test_img)\n",
    "    # print(output)\n",
    "    res=np.array(output*255,dtype=\"int64\")\n",
    "    res = np.resize(res,(28,28))\n",
    "    return res\n"
   ]
  },
  {
   "cell_type": "code",
   "execution_count": 199,
   "id": "246a4f1b",
   "metadata": {},
   "outputs": [],
   "source": [
    "def convert_test_input_img(ar):\n",
    "    return torch.tensor(ar,dtype=torch.float32)"
   ]
  },
  {
   "cell_type": "code",
   "execution_count": 205,
   "id": "9b4999d5",
   "metadata": {},
   "outputs": [],
   "source": [
    "# model = model()\n",
    "# model.load_state_dict(torch.load('my_autoencoder_model'))\n",
    "test_idx = 10\n",
    "\n",
    "test_img = convert_test_input_img(x_test_final[test_idx])\n",
    "orig_img = np.resize(x_test_final[test_idx],(28,28))\n",
    "\n",
    "res = predict_single_img(model,test_img)"
   ]
  },
  {
   "cell_type": "code",
   "execution_count": 206,
   "id": "b126ecc5",
   "metadata": {},
   "outputs": [],
   "source": [
    "def plot_image_output(img_arr_pred,img_arr_orig):\n",
    "    plt.figure\n",
    "    plt.subplot(1,2,1)\n",
    "    plt.imshow(img_arr_pred,cmap=\"gray\")\n",
    "    plt.subplot(1,2,2)\n",
    "    plt.imshow(img_arr_orig,cmap=\"gray\")\n",
    "    plt.tight_layout()\n",
    "    plt.show()"
   ]
  },
  {
   "cell_type": "code",
   "execution_count": 207,
   "id": "c7ce24ee",
   "metadata": {},
   "outputs": [
    {
     "data": {
      "image/png": "[encoded data removed]",
      "text/plain": [
       "<Figure size 640x480 with 2 Axes>"
      ]
     },
     "metadata": {
      "image/png": {
       "height": 314,
       "width": 629
      }
     },
     "output_type": "display_data"
    }
   ],
   "source": [
    "plot_image_output(res,orig_img)"
   ]
  },
  {
   "cell_type": "code",
   "execution_count": null,
   "id": "6f4d0dc8",
   "metadata": {},
   "outputs": [],
   "source": []
  }
 ],
 "metadata": {
  "kernelspec": {
   "display_name": "Python 3 (ipykernel)",
   "language": "python",
   "name": "python3"
  },
  "language_info": {
   "codemirror_mode": {
    "name": "ipython",
    "version": 3
   },
   "file_extension": ".py",
   "mimetype": "text/x-python",
   "name": "python",
   "nbconvert_exporter": "python",
   "pygments_lexer": "ipython3",
   "version": "3.9.13"
  }
 },
 "nbformat": 4,
 "nbformat_minor": 5
}
