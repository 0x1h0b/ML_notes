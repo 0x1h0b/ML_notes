{
 "cells": [
  {
   "cell_type": "markdown",
   "id": "4a13188b",
   "metadata": {},
   "source": [
    "## Classification\n",
    "\n",
    "- In this chapter we use MNIST dataset for hand written digit recognition,\n",
    "    - this dataset is directly available in sklearn lib , so we can use it directly.\n",
    "    - A DESCR key is describing dataset.\n",
    "    - A data key contains array with one row per instance and one column per feature.\n",
    "    - A target key containing an array with labels."
   ]
  },
  {
   "cell_type": "code",
   "execution_count": 1,
   "id": "af2ab664",
   "metadata": {},
   "outputs": [
    {
     "data": {
      "text/plain": [
       "dict_keys(['data', 'target', 'frame', 'categories', 'feature_names', 'target_names', 'DESCR', 'details', 'url'])"
      ]
     },
     "execution_count": 1,
     "metadata": {},
     "output_type": "execute_result"
    }
   ],
   "source": [
    "from sklearn.datasets import fetch_openml\n",
    "mnist = fetch_openml('mnist_784',version=1)\n",
    "mnist.keys()"
   ]
  },
  {
   "cell_type": "code",
   "execution_count": 2,
   "id": "764df5f4",
   "metadata": {},
   "outputs": [
    {
     "name": "stdout",
     "output_type": "stream",
     "text": [
      "X shape:  (70000, 784)\n",
      "y shape:  (70000,)\n"
     ]
    }
   ],
   "source": [
    "X, y = mnist['data'], mnist['target']\n",
    "print('X shape: ',X.shape)\n",
    "print('y shape: ',y.shape)"
   ]
  },
  {
   "cell_type": "markdown",
   "id": "401be221",
   "metadata": {},
   "source": [
    "- There are 70,000 images and each image has 784 features. as each image is 28*28 pixels\n",
    "    - each feature ( or pixel) represents its intensity rangr from 0(white) to 255(black).\n",
    "   "
   ]
  },
  {
   "cell_type": "code",
   "execution_count": 3,
   "id": "9a7b4a3f",
   "metadata": {},
   "outputs": [
    {
     "name": "stdout",
     "output_type": "stream",
     "text": [
      "val:  5\n"
     ]
    },
    {
     "data": {
      "image/png": "[encoded data removed]",
      "text/plain": [
       "<Figure size 432x288 with 1 Axes>"
      ]
     },
     "metadata": {
      "needs_background": "light"
     },
     "output_type": "display_data"
    }
   ],
   "source": [
    "# plotting one row\n",
    "import matplotlib.pyplot as plt\n",
    "import matplotlib as mpl\n",
    "\n",
    "some_digit = X.iloc[0].values\n",
    "digit_val = y[0]\n",
    "some_digit_image = some_digit.reshape(28,28)\n",
    "print('val: ',digit_val)\n",
    "\n",
    "plt.imshow(some_digit_image, cmap=mpl.cm.binary, interpolation='nearest')\n",
    "plt.axis('off')\n",
    "plt.show()"
   ]
  },
  {
   "cell_type": "code",
   "execution_count": 4,
   "id": "59f0120e",
   "metadata": {},
   "outputs": [],
   "source": [
    "import numpy as np\n",
    "# y values are string '5' or '6' , need to convert it to integer\n",
    "y = y.astype(np.uint8)"
   ]
  },
  {
   "cell_type": "code",
   "execution_count": 5,
   "id": "7165ad14",
   "metadata": {},
   "outputs": [],
   "source": [
    "X_train, X_test, y_train, y_test = X[:60000],X[60000:],y[:60000],y[60000:]"
   ]
  },
  {
   "cell_type": "markdown",
   "id": "a03a5aa0",
   "metadata": {},
   "source": [
    "- training set is already shuffled by sklearn ( can verify if its performing good in cross-validation folds)\n",
    "\n",
    "#### Confusion Matrix\n",
    "- preferred way to determine performance of a classifier.\n",
    "    - cross_val_predict(), returns the output or prediction values for each folds. where as cross_val_Score() returns the accuracy ro score.\n",
    "    -  the prection values from cross_val_predict use it to generate confusion_matrix . from sklearn.metrics\n",
    "- precision = TP/(TP+FP)\n",
    "    - TP true positives, FP false positives\n",
    "- Recall,  sensitivity or true positive rate (TPR) : ratio of positive instances that are correctly detected by this classifier. TP/(TP+FN)\n",
    "\n",
    "`from sklearn.metrics import precision_score, recall_score`\n",
    "- finally f1 score, combined score of precision and recall.\n",
    "    - its a harmonic mean of precision and recall.\n",
    "    - regular mean treats all values equally , harmonic mean gives much more weight to low values . so f1 score will be high if both recall and precision are high.\n",
    "    - `from sklearn.metrics import f1_score`\n",
    "    - f1_score(y_test,y_pred)\n",
    "    \n",
    "    \n",
    "The F1 score favors classifiers that have similar precision and recall. This is not always what you want: in some contexts you mostly care about precision, and in other con‐ texts you really care about recall. For example, if you trained a classifier to detect vid‐ eos that are safe for kids, you would probably prefer a classifier that rejects many good videos (low recall) but keeps only safe ones (high precision), rather than a clas‐ sifier that has a much higher recall but lets a few really bad videos show up in your product (in such cases, you may even want to add a human pipeline to check the clas‐ sifier’s video selection). On the other hand, suppose you train a classifier to detect shoplifters on surveillance images: it is probably fine if your classifier has only 30% precision as long as it has 99% recall (sure, the security guards will get a few false alerts, but almost all shoplifters will get caught).\n",
    "\n",
    "- Precision /Recall tradeoff (Read more)\n",
    "- ROC Curve ( receiver operating characteristic )\n",
    "- ROc AUC Curve (AUC- area under the curve )"
   ]
  },
  {
   "cell_type": "code",
   "execution_count": 11,
   "id": "7afd7986",
   "metadata": {},
   "outputs": [],
   "source": [
    "## cretae a model and predict"
   ]
  },
  {
   "cell_type": "code",
   "execution_count": null,
   "id": "811207c6",
   "metadata": {},
   "outputs": [],
   "source": []
  },
  {
   "cell_type": "markdown",
   "id": "ddc80779",
   "metadata": {},
   "source": [
    "### To-do\n",
    "\n",
    "- Build a spam classifier (a more challenging exercise):\n",
    "    - Download examples of spam and ham from Apache SpamAssassin’s public datasets.\n",
    "    - Unzip the datasets and familiarize yourself with the data format.\n",
    "    - Split the datasets into a training set and a test set.\n",
    "    - Write a data preparation pipeline to convert each email into a feature vector. Your preparation pipeline should transform an email into a (sparse) vector indicating the presence or absence of each possible word. For example, if all emails only ever contain four words, “Hello,” “how,” “are,” “you,” then the email “Hello you Hello Hello you” would be converted into a vector [1, 0, 0, 1] (meaning [“Hello” is present, “how” is absent, “are” is absent, “you” is present]), or [3, 0, 0, 2] if you prefer to count the number of occurrences of each word.\n",
    "    - You may want to add hyperparameters to your preparation pipeline to control whether or not to strip off email headers, convert each email to lowercase, remove punctuation, replace all URLs with “URL,” replace all numbers with “NUMBER,” or even perform stemming (i.e., trim off word endings; there are Python libraries available to do this).\n",
    "    - Then try out several classifiers and see if you can build a great spam classifier, with both high recall and high precision."
   ]
  },
  {
   "cell_type": "code",
   "execution_count": null,
   "id": "1f093a90",
   "metadata": {},
   "outputs": [],
   "source": []
  }
 ],
 "metadata": {
  "kernelspec": {
   "display_name": "Python 3",
   "language": "python",
   "name": "python3"
  },
  "language_info": {
   "codemirror_mode": {
    "name": "ipython",
    "version": 3
   },
   "file_extension": ".py",
   "mimetype": "text/x-python",
   "name": "python",
   "nbconvert_exporter": "python",
   "pygments_lexer": "ipython3",
   "version": "3.8.8"
  }
 },
 "nbformat": 4,
 "nbformat_minor": 5
}
